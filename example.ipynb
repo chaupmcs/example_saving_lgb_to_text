{
 "cells": [
  {
   "cell_type": "code",
   "execution_count": 1,
   "metadata": {},
   "outputs": [
    {
     "name": "stderr",
     "output_type": "stream",
     "text": [
      "/anaconda3/envs/py36_env/lib/python3.6/site-packages/lightgbm/__init__.py:46: UserWarning: Starting from version 2.2.1, the library file in distribution wheels for macOS is built by the Apple Clang (Xcode_8.3.1) compiler.\n",
      "This means that in case of installing LightGBM from PyPI via the ``pip install lightgbm`` command, you don't need to install the gcc compiler anymore.\n",
      "Instead of that, you need to install the OpenMP library, which is required for running LightGBM on the system with the Apple Clang compiler.\n",
      "You can install the OpenMP library by the following command: ``brew install libomp``.\n",
      "  \"You can install the OpenMP library by the following command: ``brew install libomp``.\", UserWarning)\n"
     ]
    }
   ],
   "source": [
    "import pandas as pd\n",
    "import numpy as np\n",
    "from sklearn import preprocessing\n",
    "from sklearn.model_selection import train_test_split\n",
    "from sklearn.metrics import log_loss\n",
    "import lightgbm as lgb\n",
    "import warnings\n",
    "warnings.filterwarnings('ignore')\n",
    "\n",
    "base_link =\"./\""
   ]
  },
  {
   "cell_type": "markdown",
   "metadata": {
    "slideshow": {
     "slide_type": "slide"
    }
   },
   "source": [
    "# Read data"
   ]
  },
  {
   "cell_type": "code",
   "execution_count": 2,
   "metadata": {},
   "outputs": [
    {
     "name": "stdout",
     "output_type": "stream",
     "text": [
      "(1899, 10)\n"
     ]
    }
   ],
   "source": [
    "df  = pd.read_csv(base_link + 'Audit.csv')\n",
    "df_raw = pd.read_csv(base_link + 'Audit.csv')\n",
    "print(df.shape)"
   ]
  },
  {
   "cell_type": "code",
   "execution_count": 3,
   "metadata": {},
   "outputs": [
    {
     "data": {
      "text/html": [
       "<div>\n",
       "<style scoped>\n",
       "    .dataframe tbody tr th:only-of-type {\n",
       "        vertical-align: middle;\n",
       "    }\n",
       "\n",
       "    .dataframe tbody tr th {\n",
       "        vertical-align: top;\n",
       "    }\n",
       "\n",
       "    .dataframe thead th {\n",
       "        text-align: right;\n",
       "    }\n",
       "</style>\n",
       "<table border=\"1\" class=\"dataframe\">\n",
       "  <thead>\n",
       "    <tr style=\"text-align: right;\">\n",
       "      <th></th>\n",
       "      <th>Employment</th>\n",
       "      <th>Education</th>\n",
       "      <th>Marital</th>\n",
       "      <th>Occupation</th>\n",
       "      <th>Gender</th>\n",
       "      <th>Deductions</th>\n",
       "      <th>Age</th>\n",
       "      <th>Income</th>\n",
       "      <th>Hours</th>\n",
       "      <th>Adjusted</th>\n",
       "    </tr>\n",
       "  </thead>\n",
       "  <tbody>\n",
       "    <tr>\n",
       "      <th>0</th>\n",
       "      <td>Private</td>\n",
       "      <td>College</td>\n",
       "      <td>Unmarried</td>\n",
       "      <td>Service</td>\n",
       "      <td>Female</td>\n",
       "      <td>False</td>\n",
       "      <td>38</td>\n",
       "      <td>81838.00</td>\n",
       "      <td>72</td>\n",
       "      <td>0</td>\n",
       "    </tr>\n",
       "    <tr>\n",
       "      <th>1</th>\n",
       "      <td>Private</td>\n",
       "      <td>Associate</td>\n",
       "      <td>Absent</td>\n",
       "      <td>Transport</td>\n",
       "      <td>Male</td>\n",
       "      <td>False</td>\n",
       "      <td>35</td>\n",
       "      <td>72099.00</td>\n",
       "      <td>30</td>\n",
       "      <td>0</td>\n",
       "    </tr>\n",
       "    <tr>\n",
       "      <th>2</th>\n",
       "      <td>Private</td>\n",
       "      <td>HSgrad</td>\n",
       "      <td>Divorced</td>\n",
       "      <td>Clerical</td>\n",
       "      <td>Male</td>\n",
       "      <td>False</td>\n",
       "      <td>32</td>\n",
       "      <td>154676.74</td>\n",
       "      <td>40</td>\n",
       "      <td>0</td>\n",
       "    </tr>\n",
       "    <tr>\n",
       "      <th>3</th>\n",
       "      <td>Private</td>\n",
       "      <td>Bachelor</td>\n",
       "      <td>Married</td>\n",
       "      <td>Repair</td>\n",
       "      <td>Male</td>\n",
       "      <td>False</td>\n",
       "      <td>45</td>\n",
       "      <td>27743.82</td>\n",
       "      <td>55</td>\n",
       "      <td>1</td>\n",
       "    </tr>\n",
       "    <tr>\n",
       "      <th>4</th>\n",
       "      <td>Private</td>\n",
       "      <td>College</td>\n",
       "      <td>Married</td>\n",
       "      <td>Executive</td>\n",
       "      <td>Male</td>\n",
       "      <td>False</td>\n",
       "      <td>60</td>\n",
       "      <td>7568.23</td>\n",
       "      <td>40</td>\n",
       "      <td>1</td>\n",
       "    </tr>\n",
       "  </tbody>\n",
       "</table>\n",
       "</div>"
      ],
      "text/plain": [
       "  Employment  Education    Marital Occupation  Gender  Deductions  Age  \\\n",
       "0    Private    College  Unmarried    Service  Female       False   38   \n",
       "1    Private  Associate     Absent  Transport    Male       False   35   \n",
       "2    Private     HSgrad   Divorced   Clerical    Male       False   32   \n",
       "3    Private   Bachelor    Married     Repair    Male       False   45   \n",
       "4    Private    College    Married  Executive    Male       False   60   \n",
       "\n",
       "      Income  Hours  Adjusted  \n",
       "0   81838.00     72         0  \n",
       "1   72099.00     30         0  \n",
       "2  154676.74     40         0  \n",
       "3   27743.82     55         1  \n",
       "4    7568.23     40         1  "
      ]
     },
     "execution_count": 3,
     "metadata": {},
     "output_type": "execute_result"
    }
   ],
   "source": [
    "### re-order columns, put categorical cols first\n",
    "\n",
    "df = df[['Employment', 'Education', 'Marital', 'Occupation','Gender', 'Deductions', \n",
    "         'Age',  'Income','Hours', \n",
    "         'Adjusted']]\n",
    "df.head()"
   ]
  },
  {
   "cell_type": "markdown",
   "metadata": {
    "slideshow": {
     "slide_type": "slide"
    }
   },
   "source": [
    "# Prepare data for modeling"
   ]
  },
  {
   "cell_type": "code",
   "execution_count": 4,
   "metadata": {
    "scrolled": true
   },
   "outputs": [
    {
     "data": {
      "text/html": [
       "<div>\n",
       "<style scoped>\n",
       "    .dataframe tbody tr th:only-of-type {\n",
       "        vertical-align: middle;\n",
       "    }\n",
       "\n",
       "    .dataframe tbody tr th {\n",
       "        vertical-align: top;\n",
       "    }\n",
       "\n",
       "    .dataframe thead th {\n",
       "        text-align: right;\n",
       "    }\n",
       "</style>\n",
       "<table border=\"1\" class=\"dataframe\">\n",
       "  <thead>\n",
       "    <tr style=\"text-align: right;\">\n",
       "      <th></th>\n",
       "      <th>Employment</th>\n",
       "      <th>Education</th>\n",
       "      <th>Marital</th>\n",
       "      <th>Occupation</th>\n",
       "      <th>Gender</th>\n",
       "      <th>Deductions</th>\n",
       "      <th>Age</th>\n",
       "      <th>Income</th>\n",
       "      <th>Hours</th>\n",
       "      <th>Adjusted</th>\n",
       "    </tr>\n",
       "  </thead>\n",
       "  <tbody>\n",
       "    <tr>\n",
       "      <th>0</th>\n",
       "      <td>4</td>\n",
       "      <td>2</td>\n",
       "      <td>4</td>\n",
       "      <td>11</td>\n",
       "      <td>0</td>\n",
       "      <td>0</td>\n",
       "      <td>38</td>\n",
       "      <td>81838.00</td>\n",
       "      <td>72</td>\n",
       "      <td>0</td>\n",
       "    </tr>\n",
       "    <tr>\n",
       "      <th>1</th>\n",
       "      <td>4</td>\n",
       "      <td>0</td>\n",
       "      <td>0</td>\n",
       "      <td>13</td>\n",
       "      <td>1</td>\n",
       "      <td>0</td>\n",
       "      <td>35</td>\n",
       "      <td>72099.00</td>\n",
       "      <td>30</td>\n",
       "      <td>0</td>\n",
       "    </tr>\n",
       "    <tr>\n",
       "      <th>2</th>\n",
       "      <td>4</td>\n",
       "      <td>4</td>\n",
       "      <td>1</td>\n",
       "      <td>1</td>\n",
       "      <td>1</td>\n",
       "      <td>0</td>\n",
       "      <td>32</td>\n",
       "      <td>154676.74</td>\n",
       "      <td>40</td>\n",
       "      <td>0</td>\n",
       "    </tr>\n",
       "    <tr>\n",
       "      <th>3</th>\n",
       "      <td>4</td>\n",
       "      <td>1</td>\n",
       "      <td>2</td>\n",
       "      <td>9</td>\n",
       "      <td>1</td>\n",
       "      <td>0</td>\n",
       "      <td>45</td>\n",
       "      <td>27743.82</td>\n",
       "      <td>55</td>\n",
       "      <td>1</td>\n",
       "    </tr>\n",
       "    <tr>\n",
       "      <th>4</th>\n",
       "      <td>4</td>\n",
       "      <td>2</td>\n",
       "      <td>2</td>\n",
       "      <td>2</td>\n",
       "      <td>1</td>\n",
       "      <td>0</td>\n",
       "      <td>60</td>\n",
       "      <td>7568.23</td>\n",
       "      <td>40</td>\n",
       "      <td>1</td>\n",
       "    </tr>\n",
       "  </tbody>\n",
       "</table>\n",
       "</div>"
      ],
      "text/plain": [
       "   Employment  Education  Marital  Occupation  Gender  Deductions  Age  \\\n",
       "0           4          2        4          11       0           0   38   \n",
       "1           4          0        0          13       1           0   35   \n",
       "2           4          4        1           1       1           0   32   \n",
       "3           4          1        2           9       1           0   45   \n",
       "4           4          2        2           2       1           0   60   \n",
       "\n",
       "      Income  Hours  Adjusted  \n",
       "0   81838.00     72         0  \n",
       "1   72099.00     30         0  \n",
       "2  154676.74     40         0  \n",
       "3   27743.82     55         1  \n",
       "4    7568.23     40         1  "
      ]
     },
     "execution_count": 4,
     "metadata": {},
     "output_type": "execute_result"
    }
   ],
   "source": [
    "# feature cols\n",
    "feature_cols = 'Employment', 'Education', 'Marital', 'Occupation','Gender', 'Deductions',\\\n",
    "         'Age',  'Income','Hours'\n",
    "\n",
    "# categorical cols in the input data\n",
    "cate_cols = ['Employment', 'Education', 'Marital', 'Occupation', 'Gender', 'Deductions']\n",
    "\n",
    "\n",
    "# label encoder:\n",
    "for c in cate_cols:\n",
    "    le = preprocessing.LabelEncoder()\n",
    "    df[c] = le.fit_transform(df[c])\n",
    "\n",
    "df.head()"
   ]
  },
  {
   "cell_type": "code",
   "execution_count": 29,
   "metadata": {},
   "outputs": [],
   "source": [
    "X_train, X_valid, y_train, y_valid = train_test_split(df.iloc[:, :-1], df.iloc[:,-1], test_size=0.2, random_state=42)"
   ]
  },
  {
   "cell_type": "markdown",
   "metadata": {
    "slideshow": {
     "slide_type": "slide"
    }
   },
   "source": [
    "# Model"
   ]
  },
  {
   "cell_type": "markdown",
   "metadata": {},
   "source": [
    "## Option 1: Create txt file model, result,... for testing java version"
   ]
  },
  {
   "cell_type": "code",
   "execution_count": 30,
   "metadata": {},
   "outputs": [],
   "source": [
    "# pred = lgb_sklearn_model.predict_proba(X_train)\n",
    "# names = [\"_target\", \"probability(0)\", \"probability(1)\"]\n",
    "\n",
    "# _target = pd.DataFrame((pred[:,1] >  pred[:,0]).astype(int))\n",
    "# p0 = pd.DataFrame(pred[:,0])\n",
    "# p1 = pd.DataFrame(pred[:,1])\n",
    "\n",
    "# res = pd.concat([_target, p0, p1], 1)\n",
    "# res.columns=names\n",
    "# X_train.to_csv(base_link + \"C.csv\", index=False)\n",
    "# lgb_sklearn_model.booster_.save_model(base_link + 'ClassificationC.txt')\n",
    "# res.to_csv(base_link + \"ClassificationC.csv\", index=False)\n",
    "\n",
    "# print(\"done\")"
   ]
  },
  {
   "cell_type": "markdown",
   "metadata": {},
   "source": [
    "## Option 2: Using sklearn2pmml directly "
   ]
  },
  {
   "cell_type": "code",
   "execution_count": 31,
   "metadata": {},
   "outputs": [
    {
     "data": {
      "text/html": [
       "<div>\n",
       "<style scoped>\n",
       "    .dataframe tbody tr th:only-of-type {\n",
       "        vertical-align: middle;\n",
       "    }\n",
       "\n",
       "    .dataframe tbody tr th {\n",
       "        vertical-align: top;\n",
       "    }\n",
       "\n",
       "    .dataframe thead th {\n",
       "        text-align: right;\n",
       "    }\n",
       "</style>\n",
       "<table border=\"1\" class=\"dataframe\">\n",
       "  <thead>\n",
       "    <tr style=\"text-align: right;\">\n",
       "      <th></th>\n",
       "      <th>Employment</th>\n",
       "      <th>Education</th>\n",
       "      <th>Marital</th>\n",
       "      <th>Occupation</th>\n",
       "      <th>Gender</th>\n",
       "      <th>Deductions</th>\n",
       "      <th>Age</th>\n",
       "      <th>Income</th>\n",
       "      <th>Hours</th>\n",
       "    </tr>\n",
       "  </thead>\n",
       "  <tbody>\n",
       "    <tr>\n",
       "      <th>1005</th>\n",
       "      <td>2</td>\n",
       "      <td>9</td>\n",
       "      <td>2</td>\n",
       "      <td>0</td>\n",
       "      <td>1</td>\n",
       "      <td>0</td>\n",
       "      <td>42</td>\n",
       "      <td>29954.32</td>\n",
       "      <td>40</td>\n",
       "    </tr>\n",
       "    <tr>\n",
       "      <th>1793</th>\n",
       "      <td>4</td>\n",
       "      <td>5</td>\n",
       "      <td>2</td>\n",
       "      <td>7</td>\n",
       "      <td>1</td>\n",
       "      <td>0</td>\n",
       "      <td>55</td>\n",
       "      <td>11144.16</td>\n",
       "      <td>50</td>\n",
       "    </tr>\n",
       "    <tr>\n",
       "      <th>1774</th>\n",
       "      <td>1</td>\n",
       "      <td>10</td>\n",
       "      <td>0</td>\n",
       "      <td>1</td>\n",
       "      <td>0</td>\n",
       "      <td>1</td>\n",
       "      <td>17</td>\n",
       "      <td>53034.17</td>\n",
       "      <td>40</td>\n",
       "    </tr>\n",
       "    <tr>\n",
       "      <th>339</th>\n",
       "      <td>4</td>\n",
       "      <td>2</td>\n",
       "      <td>2</td>\n",
       "      <td>1</td>\n",
       "      <td>1</td>\n",
       "      <td>0</td>\n",
       "      <td>39</td>\n",
       "      <td>15275.18</td>\n",
       "      <td>25</td>\n",
       "    </tr>\n",
       "    <tr>\n",
       "      <th>824</th>\n",
       "      <td>4</td>\n",
       "      <td>4</td>\n",
       "      <td>0</td>\n",
       "      <td>10</td>\n",
       "      <td>0</td>\n",
       "      <td>0</td>\n",
       "      <td>19</td>\n",
       "      <td>184671.16</td>\n",
       "      <td>20</td>\n",
       "    </tr>\n",
       "  </tbody>\n",
       "</table>\n",
       "</div>"
      ],
      "text/plain": [
       "      Employment  Education  Marital  Occupation  Gender  Deductions  Age  \\\n",
       "1005           2          9        2           0       1           0   42   \n",
       "1793           4          5        2           7       1           0   55   \n",
       "1774           1         10        0           1       0           1   17   \n",
       "339            4          2        2           1       1           0   39   \n",
       "824            4          4        0          10       0           0   19   \n",
       "\n",
       "         Income  Hours  \n",
       "1005   29954.32     40  \n",
       "1793   11144.16     50  \n",
       "1774   53034.17     40  \n",
       "339    15275.18     25  \n",
       "824   184671.16     20  "
      ]
     },
     "execution_count": 31,
     "metadata": {},
     "output_type": "execute_result"
    }
   ],
   "source": [
    "X_train.head()"
   ]
  },
  {
   "cell_type": "code",
   "execution_count": null,
   "metadata": {},
   "outputs": [],
   "source": [
    "cate_cols"
   ]
  },
  {
   "cell_type": "code",
   "execution_count": 38,
   "metadata": {},
   "outputs": [
    {
     "data": {
      "text/plain": [
       "PMMLPipeline(steps=[('mapper', DataFrameMapper(default=False, df_out=False,\n",
       "        features=[(['Employment'], [CategoricalDomain(invalid_value_replacement=None,\n",
       "         invalid_value_treatment='return_invalid',\n",
       "         missing_value_replacement=None, missing_value_treatment='as_is',\n",
       "         missing_values=None, with_data=True, with_statistics=True), LabelEncoder()]), (['Educati...   missing_values=None, outlier_treatment='as_is', with_data=False,\n",
       "         with_statistics=True))],\n",
       "        input_df=False, sparse=False)),\n",
       "       ('classifier', LGBMClassifier(boosting_type='gbdt', class_weight=None, colsample_bytree=1.0,\n",
       "        importance_type='split', learning_rate=0.1, max_depth=2,\n",
       "        min_child_samples=20, min_child_weight=0.001, min_split_gain=0.0,\n",
       "        n_estimators=5, n_jobs=-1, num_leaves=10, objective=None,\n",
       "        random_state=None, reg_alpha=0.0, reg_lambda=0.0, silent=True,\n",
       "        subsample=1.0, subsample_for_bin=200000, subsample_freq=0))])"
      ]
     },
     "execution_count": 38,
     "metadata": {},
     "output_type": "execute_result"
    }
   ],
   "source": [
    "from sklearn2pmml import make_pmml_pipeline, sklearn2pmml\n",
    "from sklearn2pmml.decoration import CategoricalDomain\n",
    "from sklearn_pandas import DataFrameMapper\n",
    "from sklearn2pmml.decoration import ContinuousDomain\n",
    "from sklearn2pmml.pipeline import PMMLPipeline\n",
    "from sklearn.preprocessing import LabelEncoder\n",
    "\n",
    "params = {'classifier__categorical_feature':[0, 1, 2, 3, 4, 5]}\n",
    "mapper = DataFrameMapper(\n",
    "    [([column], [CategoricalDomain(), LabelEncoder()]) for column in cate_cols] +\n",
    "    [(['Age',  'Income','Hours'], ContinuousDomain(with_data = False))])\n",
    "\n",
    "classifier = lgb.LGBMClassifier(n_estimators=5, learning_rate=0.1, num_leaves=10, max_depth=2)\n",
    "\n",
    "pipeline = PMMLPipeline([\n",
    " (\"mapper\", mapper),\n",
    " (\"classifier\", classifier)\n",
    "])\n",
    "\n",
    "pipeline.fit(X = X_train, y = y_train, **params)"
   ]
  },
  {
   "cell_type": "code",
   "execution_count": 39,
   "metadata": {},
   "outputs": [],
   "source": [
    "sklearn2pmml(pipeline, base_link + \"/pipeline_2.pmml\")"
   ]
  },
  {
   "cell_type": "code",
   "execution_count": 40,
   "metadata": {},
   "outputs": [
    {
     "data": {
      "text/plain": [
       "array([[0.75875668, 0.24124332],\n",
       "       [0.61199313, 0.38800687],\n",
       "       [0.84401451, 0.15598549],\n",
       "       ...,\n",
       "       [0.75875668, 0.24124332],\n",
       "       [0.8238318 , 0.1761682 ],\n",
       "       [0.61199313, 0.38800687]])"
      ]
     },
     "execution_count": 40,
     "metadata": {},
     "output_type": "execute_result"
    }
   ],
   "source": [
    "pipeline.predict_proba(X_train)"
   ]
  },
  {
   "cell_type": "code",
   "execution_count": 42,
   "metadata": {},
   "outputs": [
    {
     "name": "stdout",
     "output_type": "stream",
     "text": [
      "0.4588835269629688\n"
     ]
    },
    {
     "data": {
      "text/plain": [
       "0.44756399589310475"
      ]
     },
     "execution_count": 42,
     "metadata": {},
     "output_type": "execute_result"
    }
   ],
   "source": [
    "print(log_loss(y_train, pipeline.predict_proba(X_train)))\n",
    "log_loss(y_valid, pipeline.predict_proba(X_valid))"
   ]
  },
  {
   "cell_type": "code",
   "execution_count": 34,
   "metadata": {},
   "outputs": [
    {
     "data": {
      "text/plain": [
       "array([[0.75875668, 0.24124332],\n",
       "       [0.61199313, 0.38800687],\n",
       "       [0.84401451, 0.15598549],\n",
       "       ...,\n",
       "       [0.75875668, 0.24124332],\n",
       "       [0.8238318 , 0.1761682 ],\n",
       "       [0.61199313, 0.38800687]])"
      ]
     },
     "execution_count": 34,
     "metadata": {},
     "output_type": "execute_result"
    }
   ],
   "source": [
    "lgb_model = lgb.LGBMClassifier(n_estimators=5, learning_rate=0.1, num_leaves=10, max_depth=2)\n",
    "lgb_model.fit(X_train, y_train, feature_name=feature_cols, categorical_feature=cate_cols)\n",
    "lgb_model.predict_proba(X_train)"
   ]
  },
  {
   "cell_type": "code",
   "execution_count": 43,
   "metadata": {},
   "outputs": [
    {
     "name": "stdout",
     "output_type": "stream",
     "text": [
      "0.4588835269629688\n"
     ]
    },
    {
     "data": {
      "text/plain": [
       "0.44756399589310475"
      ]
     },
     "execution_count": 43,
     "metadata": {},
     "output_type": "execute_result"
    }
   ],
   "source": [
    "print(log_loss(y_train, lgb_model.predict_proba(X_train)))\n",
    "log_loss(y_valid, lgb_model.predict_proba(X_valid))"
   ]
  },
  {
   "cell_type": "code",
   "execution_count": null,
   "metadata": {},
   "outputs": [],
   "source": []
  }
 ],
 "metadata": {
  "hide_input": false,
  "kernelspec": {
   "display_name": "python3.6",
   "language": "python",
   "name": "python3.6"
  },
  "language_info": {
   "codemirror_mode": {
    "name": "ipython",
    "version": 3
   },
   "file_extension": ".py",
   "mimetype": "text/x-python",
   "name": "python",
   "nbconvert_exporter": "python",
   "pygments_lexer": "ipython3",
   "version": "3.6.6"
  },
  "toc": {
   "base_numbering": 1,
   "nav_menu": {},
   "number_sections": true,
   "sideBar": true,
   "skip_h1_title": false,
   "title_cell": "Table of Contents",
   "title_sidebar": "Contents",
   "toc_cell": false,
   "toc_position": {
    "height": "calc(100% - 180px)",
    "left": "10px",
    "top": "150px",
    "width": "349px"
   },
   "toc_section_display": true,
   "toc_window_display": true
  },
  "varInspector": {
   "cols": {
    "lenName": 16,
    "lenType": 16,
    "lenVar": 40
   },
   "kernels_config": {
    "python": {
     "delete_cmd_postfix": "",
     "delete_cmd_prefix": "del ",
     "library": "var_list.py",
     "varRefreshCmd": "print(var_dic_list())"
    },
    "r": {
     "delete_cmd_postfix": ") ",
     "delete_cmd_prefix": "rm(",
     "library": "var_list.r",
     "varRefreshCmd": "cat(var_dic_list()) "
    }
   },
   "types_to_exclude": [
    "module",
    "function",
    "builtin_function_or_method",
    "instance",
    "_Feature"
   ],
   "window_display": false
  }
 },
 "nbformat": 4,
 "nbformat_minor": 2
}
