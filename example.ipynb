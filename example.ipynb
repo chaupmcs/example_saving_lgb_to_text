{
 "cells": [
  {
   "cell_type": "code",
   "execution_count": 8,
   "metadata": {},
   "outputs": [],
   "source": [
    "import pandas as pd\n",
    "import numpy as np\n",
    "from sklearn import preprocessing\n",
    "from sklearn.model_selection import train_test_split\n",
    "from sklearn.metrics import log_loss\n",
    "import lightgbm as lgb\n",
    "import warnings\n",
    "warnings.filterwarnings('ignore')\n",
    "\n",
    "base_link =\"./\""
   ]
  },
  {
   "cell_type": "markdown",
   "metadata": {
    "slideshow": {
     "slide_type": "slide"
    }
   },
   "source": [
    "# Read data"
   ]
  },
  {
   "cell_type": "code",
   "execution_count": 10,
   "metadata": {},
   "outputs": [
    {
     "name": "stdout",
     "output_type": "stream",
     "text": [
      "(1899, 10)\n"
     ]
    },
    {
     "data": {
      "text/html": [
       "<div>\n",
       "<style scoped>\n",
       "    .dataframe tbody tr th:only-of-type {\n",
       "        vertical-align: middle;\n",
       "    }\n",
       "\n",
       "    .dataframe tbody tr th {\n",
       "        vertical-align: top;\n",
       "    }\n",
       "\n",
       "    .dataframe thead th {\n",
       "        text-align: right;\n",
       "    }\n",
       "</style>\n",
       "<table border=\"1\" class=\"dataframe\">\n",
       "  <thead>\n",
       "    <tr style=\"text-align: right;\">\n",
       "      <th></th>\n",
       "      <th>Age</th>\n",
       "      <th>Employment</th>\n",
       "      <th>Education</th>\n",
       "      <th>Marital</th>\n",
       "      <th>Occupation</th>\n",
       "      <th>Income</th>\n",
       "      <th>Gender</th>\n",
       "      <th>Deductions</th>\n",
       "      <th>Hours</th>\n",
       "      <th>Adjusted</th>\n",
       "    </tr>\n",
       "  </thead>\n",
       "  <tbody>\n",
       "    <tr>\n",
       "      <th>0</th>\n",
       "      <td>38</td>\n",
       "      <td>Private</td>\n",
       "      <td>College</td>\n",
       "      <td>Unmarried</td>\n",
       "      <td>Service</td>\n",
       "      <td>81838.00</td>\n",
       "      <td>Female</td>\n",
       "      <td>False</td>\n",
       "      <td>72</td>\n",
       "      <td>0</td>\n",
       "    </tr>\n",
       "    <tr>\n",
       "      <th>1</th>\n",
       "      <td>35</td>\n",
       "      <td>Private</td>\n",
       "      <td>Associate</td>\n",
       "      <td>Absent</td>\n",
       "      <td>Transport</td>\n",
       "      <td>72099.00</td>\n",
       "      <td>Male</td>\n",
       "      <td>False</td>\n",
       "      <td>30</td>\n",
       "      <td>0</td>\n",
       "    </tr>\n",
       "    <tr>\n",
       "      <th>2</th>\n",
       "      <td>32</td>\n",
       "      <td>Private</td>\n",
       "      <td>HSgrad</td>\n",
       "      <td>Divorced</td>\n",
       "      <td>Clerical</td>\n",
       "      <td>154676.74</td>\n",
       "      <td>Male</td>\n",
       "      <td>False</td>\n",
       "      <td>40</td>\n",
       "      <td>0</td>\n",
       "    </tr>\n",
       "    <tr>\n",
       "      <th>3</th>\n",
       "      <td>45</td>\n",
       "      <td>Private</td>\n",
       "      <td>Bachelor</td>\n",
       "      <td>Married</td>\n",
       "      <td>Repair</td>\n",
       "      <td>27743.82</td>\n",
       "      <td>Male</td>\n",
       "      <td>False</td>\n",
       "      <td>55</td>\n",
       "      <td>1</td>\n",
       "    </tr>\n",
       "    <tr>\n",
       "      <th>4</th>\n",
       "      <td>60</td>\n",
       "      <td>Private</td>\n",
       "      <td>College</td>\n",
       "      <td>Married</td>\n",
       "      <td>Executive</td>\n",
       "      <td>7568.23</td>\n",
       "      <td>Male</td>\n",
       "      <td>False</td>\n",
       "      <td>40</td>\n",
       "      <td>1</td>\n",
       "    </tr>\n",
       "  </tbody>\n",
       "</table>\n",
       "</div>"
      ],
      "text/plain": [
       "   Age Employment  Education    Marital Occupation     Income  Gender  \\\n",
       "0   38    Private    College  Unmarried    Service   81838.00  Female   \n",
       "1   35    Private  Associate     Absent  Transport   72099.00    Male   \n",
       "2   32    Private     HSgrad   Divorced   Clerical  154676.74    Male   \n",
       "3   45    Private   Bachelor    Married     Repair   27743.82    Male   \n",
       "4   60    Private    College    Married  Executive    7568.23    Male   \n",
       "\n",
       "   Deductions  Hours  Adjusted  \n",
       "0       False     72         0  \n",
       "1       False     30         0  \n",
       "2       False     40         0  \n",
       "3       False     55         1  \n",
       "4       False     40         1  "
      ]
     },
     "execution_count": 10,
     "metadata": {},
     "output_type": "execute_result"
    }
   ],
   "source": [
    "df  = pd.read_csv(base_link + 'Audit.csv')\n",
    "df_raw = pd.read_csv(base_link + 'Audit.csv')\n",
    "print(df.shape)\n",
    "df.head()"
   ]
  },
  {
   "cell_type": "markdown",
   "metadata": {
    "slideshow": {
     "slide_type": "slide"
    }
   },
   "source": [
    "# Prepare data for modeling"
   ]
  },
  {
   "cell_type": "code",
   "execution_count": 11,
   "metadata": {
    "scrolled": true
   },
   "outputs": [
    {
     "data": {
      "text/html": [
       "<div>\n",
       "<style scoped>\n",
       "    .dataframe tbody tr th:only-of-type {\n",
       "        vertical-align: middle;\n",
       "    }\n",
       "\n",
       "    .dataframe tbody tr th {\n",
       "        vertical-align: top;\n",
       "    }\n",
       "\n",
       "    .dataframe thead th {\n",
       "        text-align: right;\n",
       "    }\n",
       "</style>\n",
       "<table border=\"1\" class=\"dataframe\">\n",
       "  <thead>\n",
       "    <tr style=\"text-align: right;\">\n",
       "      <th></th>\n",
       "      <th>Age</th>\n",
       "      <th>Employment</th>\n",
       "      <th>Education</th>\n",
       "      <th>Marital</th>\n",
       "      <th>Occupation</th>\n",
       "      <th>Income</th>\n",
       "      <th>Gender</th>\n",
       "      <th>Deductions</th>\n",
       "      <th>Hours</th>\n",
       "      <th>Adjusted</th>\n",
       "    </tr>\n",
       "  </thead>\n",
       "  <tbody>\n",
       "    <tr>\n",
       "      <th>0</th>\n",
       "      <td>38</td>\n",
       "      <td>4</td>\n",
       "      <td>2</td>\n",
       "      <td>4</td>\n",
       "      <td>11</td>\n",
       "      <td>81838.00</td>\n",
       "      <td>0</td>\n",
       "      <td>0</td>\n",
       "      <td>72</td>\n",
       "      <td>0</td>\n",
       "    </tr>\n",
       "    <tr>\n",
       "      <th>1</th>\n",
       "      <td>35</td>\n",
       "      <td>4</td>\n",
       "      <td>0</td>\n",
       "      <td>0</td>\n",
       "      <td>13</td>\n",
       "      <td>72099.00</td>\n",
       "      <td>1</td>\n",
       "      <td>0</td>\n",
       "      <td>30</td>\n",
       "      <td>0</td>\n",
       "    </tr>\n",
       "    <tr>\n",
       "      <th>2</th>\n",
       "      <td>32</td>\n",
       "      <td>4</td>\n",
       "      <td>4</td>\n",
       "      <td>1</td>\n",
       "      <td>1</td>\n",
       "      <td>154676.74</td>\n",
       "      <td>1</td>\n",
       "      <td>0</td>\n",
       "      <td>40</td>\n",
       "      <td>0</td>\n",
       "    </tr>\n",
       "    <tr>\n",
       "      <th>3</th>\n",
       "      <td>45</td>\n",
       "      <td>4</td>\n",
       "      <td>1</td>\n",
       "      <td>2</td>\n",
       "      <td>9</td>\n",
       "      <td>27743.82</td>\n",
       "      <td>1</td>\n",
       "      <td>0</td>\n",
       "      <td>55</td>\n",
       "      <td>1</td>\n",
       "    </tr>\n",
       "    <tr>\n",
       "      <th>4</th>\n",
       "      <td>60</td>\n",
       "      <td>4</td>\n",
       "      <td>2</td>\n",
       "      <td>2</td>\n",
       "      <td>2</td>\n",
       "      <td>7568.23</td>\n",
       "      <td>1</td>\n",
       "      <td>0</td>\n",
       "      <td>40</td>\n",
       "      <td>1</td>\n",
       "    </tr>\n",
       "  </tbody>\n",
       "</table>\n",
       "</div>"
      ],
      "text/plain": [
       "   Age  Employment  Education  Marital  Occupation     Income  Gender  \\\n",
       "0   38           4          2        4          11   81838.00       0   \n",
       "1   35           4          0        0          13   72099.00       1   \n",
       "2   32           4          4        1           1  154676.74       1   \n",
       "3   45           4          1        2           9   27743.82       1   \n",
       "4   60           4          2        2           2    7568.23       1   \n",
       "\n",
       "   Deductions  Hours  Adjusted  \n",
       "0           0     72         0  \n",
       "1           0     30         0  \n",
       "2           0     40         0  \n",
       "3           0     55         1  \n",
       "4           0     40         1  "
      ]
     },
     "execution_count": 11,
     "metadata": {},
     "output_type": "execute_result"
    }
   ],
   "source": [
    "# feature cols\n",
    "feature_cols = ['Age', 'Employment', 'Education', 'Marital', 'Occupation', 'Income', 'Gender', 'Deductions', 'Hours']\n",
    "\n",
    "# categorical cols in the input data\n",
    "cate_cols = ['Employment', 'Education', 'Marital', 'Occupation', 'Gender', 'Deductions']\n",
    "\n",
    "\n",
    "# label encoder:\n",
    "for c in cate_cols:\n",
    "    le = preprocessing.LabelEncoder()\n",
    "    df[c] = le.fit_transform(df[c])\n",
    "\n",
    "df.head()"
   ]
  },
  {
   "cell_type": "code",
   "execution_count": 12,
   "metadata": {},
   "outputs": [],
   "source": [
    "X_train, X_valid, y_train, y_valid = train_test_split(df.iloc[:, :-1], df.iloc[:,-1], test_size=0.33, random_state=42)\n"
   ]
  },
  {
   "cell_type": "markdown",
   "metadata": {
    "slideshow": {
     "slide_type": "slide"
    }
   },
   "source": [
    "# Model"
   ]
  },
  {
   "cell_type": "markdown",
   "metadata": {
    "slideshow": {
     "slide_type": "slide"
    }
   },
   "source": [
    "## Lgb Sklearn model"
   ]
  },
  {
   "cell_type": "markdown",
   "metadata": {},
   "source": [
    "## Option 1: Create txt file model, result,... for testing java version"
   ]
  },
  {
   "cell_type": "code",
   "execution_count": 13,
   "metadata": {},
   "outputs": [],
   "source": [
    "# pred = lgb_sklearn_model.predict_proba(X_train)\n",
    "# names = [\"_target\", \"probability(0)\", \"probability(1)\"]\n",
    "\n",
    "# _target = pd.DataFrame((pred[:,1] >  pred[:,0]).astype(int))\n",
    "# p0 = pd.DataFrame(pred[:,0])\n",
    "# p1 = pd.DataFrame(pred[:,1])\n",
    "\n",
    "# res = pd.concat([_target, p0, p1], 1)\n",
    "# res.columns=names\n",
    "# X_train.to_csv(base_link + \"C.csv\", index=False)\n",
    "# lgb_sklearn_model.booster_.save_model(base_link + 'ClassificationC.txt')\n",
    "# res.to_csv(base_link + \"ClassificationC.csv\", index=False)\n",
    "\n",
    "# print(\"done\")"
   ]
  },
  {
   "cell_type": "markdown",
   "metadata": {},
   "source": [
    "## Option 2: Using sklearn2pmml directly "
   ]
  },
  {
   "cell_type": "code",
   "execution_count": 14,
   "metadata": {},
   "outputs": [
    {
     "data": {
      "text/plain": [
       "PMMLPipeline(steps=[('mapper', DataFrameMapper(default=False, df_out=False,\n",
       "        features=[(['Employment'], CategoricalDomain(invalid_value_replacement=None,\n",
       "         invalid_value_treatment='return_invalid',\n",
       "         missing_value_replacement=None, missing_value_treatment='as_is',\n",
       "         missing_values=None, with_data=True, with_statistics=True)), (['Education'], CategoricalD...   missing_values=None, outlier_treatment='as_is', with_data=False,\n",
       "         with_statistics=True))],\n",
       "        input_df=False, sparse=False)),\n",
       "       ('classifier', LGBMClassifier(boosting_type='gbdt', class_weight=None, colsample_bytree=1.0,\n",
       "        importance_type='split', learning_rate=0.1, max_depth=2,\n",
       "        min_child_samples=20, min_child_weight=0.001, min_split_gain=0.0,\n",
       "        n_estimators=5, n_jobs=-1, num_leaves=10, objective=None,\n",
       "        random_state=None, reg_alpha=0.0, reg_lambda=0.0, silent=True,\n",
       "        subsample=1.0, subsample_for_bin=200000, subsample_freq=0))])"
      ]
     },
     "execution_count": 14,
     "metadata": {},
     "output_type": "execute_result"
    }
   ],
   "source": [
    "from sklearn2pmml import make_pmml_pipeline, sklearn2pmml\n",
    "from sklearn2pmml.decoration import CategoricalDomain\n",
    "from sklearn_pandas import DataFrameMapper\n",
    "from sklearn2pmml.decoration import ContinuousDomain\n",
    "from sklearn2pmml.pipeline import PMMLPipeline\n",
    "from sklearn.preprocessing import LabelBinarizer\n",
    "\n",
    "#  eval_set=[(X_train, y_train), (X_valid, y_valid)],\\\n",
    "#           feature_name= feature_cols,\\\n",
    "#           categorical_feature= cate_cols,\\\n",
    "#           early_stopping_rounds=10, verbose=1)\n",
    "\n",
    "params = {'classifier__categorical_feature':[1, 2, 3, 4, 6, 7] }\n",
    "\n",
    "mapper = DataFrameMapper(\n",
    "    [([column], CategoricalDomain()) for column in cate_cols] +\n",
    "    [(['Hours', 'Income', 'Age'], ContinuousDomain(with_data = False))])\n",
    "\n",
    "classifier = lgb.LGBMClassifier(n_estimators=5, learning_rate=0.1, num_leaves=10, max_depth=2)\n",
    "\n",
    "pipeline = PMMLPipeline([\n",
    " (\"mapper\", mapper),\n",
    " (\"classifier\", classifier)\n",
    "])\n",
    "\n",
    "pipeline.fit(X = X_train, y = y_train, **params)"
   ]
  },
  {
   "cell_type": "code",
   "execution_count": 15,
   "metadata": {},
   "outputs": [
    {
     "name": "stdout",
     "output_type": "stream",
     "text": [
      "Standard output is empty\n",
      "Standard error:\n",
      "Jan 31, 2019 10:08:15 PM org.jpmml.sklearn.Main run\n",
      "INFO: Parsing PKL..\n",
      "Jan 31, 2019 10:08:15 PM org.jpmml.sklearn.Main run\n",
      "INFO: Parsed PKL in 43 ms.\n",
      "Jan 31, 2019 10:08:15 PM org.jpmml.sklearn.Main run\n",
      "INFO: Converting..\n",
      "Jan 31, 2019 10:08:15 PM org.jpmml.sklearn.Main run\n",
      "SEVERE: Failed to convert\n",
      "java.lang.IndexOutOfBoundsException: Index: 13, Size: 13\n",
      "\tat java.util.ArrayList.rangeCheck(ArrayList.java:653)\n",
      "\tat java.util.ArrayList.get(ArrayList.java:429)\n",
      "\tat org.jpmml.lightgbm.Tree.selectValues(Tree.java:240)\n",
      "\tat org.jpmml.lightgbm.Tree.encodeNode(Tree.java:151)\n",
      "\tat org.jpmml.lightgbm.Tree.encodeNode(Tree.java:186)\n",
      "\tat org.jpmml.lightgbm.Tree.encodeTreeModel(Tree.java:94)\n",
      "\tat org.jpmml.lightgbm.ObjectiveFunction.createMiningModel(ObjectiveFunction.java:66)\n",
      "\tat org.jpmml.lightgbm.BinomialLogisticRegression.encodeMiningModel(BinomialLogisticRegression.java:49)\n",
      "\tat org.jpmml.lightgbm.GBDT.encodeMiningModel(GBDT.java:287)\n",
      "\tat lightgbm.sklearn.BoosterUtil.encodeModel(BoosterUtil.java:58)\n",
      "\tat lightgbm.sklearn.LGBMClassifier.encodeModel(LGBMClassifier.java:39)\n",
      "\tat lightgbm.sklearn.LGBMClassifier.encodeModel(LGBMClassifier.java:26)\n",
      "\tat sklearn2pmml.pipeline.PMMLPipeline.encodePMML(PMMLPipeline.java:215)\n",
      "\tat org.jpmml.sklearn.Main.run(Main.java:145)\n",
      "\tat org.jpmml.sklearn.Main.main(Main.java:94)\n",
      "\n",
      "Exception in thread \"main\" java.lang.IndexOutOfBoundsException: Index: 13, Size: 13\n",
      "\tat java.util.ArrayList.rangeCheck(ArrayList.java:653)\n",
      "\tat java.util.ArrayList.get(ArrayList.java:429)\n",
      "\tat org.jpmml.lightgbm.Tree.selectValues(Tree.java:240)\n",
      "\tat org.jpmml.lightgbm.Tree.encodeNode(Tree.java:151)\n",
      "\tat org.jpmml.lightgbm.Tree.encodeNode(Tree.java:186)\n",
      "\tat org.jpmml.lightgbm.Tree.encodeTreeModel(Tree.java:94)\n",
      "\tat org.jpmml.lightgbm.ObjectiveFunction.createMiningModel(ObjectiveFunction.java:66)\n",
      "\tat org.jpmml.lightgbm.BinomialLogisticRegression.encodeMiningModel(BinomialLogisticRegression.java:49)\n",
      "\tat org.jpmml.lightgbm.GBDT.encodeMiningModel(GBDT.java:287)\n",
      "\tat lightgbm.sklearn.BoosterUtil.encodeModel(BoosterUtil.java:58)\n",
      "\tat lightgbm.sklearn.LGBMClassifier.encodeModel(LGBMClassifier.java:39)\n",
      "\tat lightgbm.sklearn.LGBMClassifier.encodeModel(LGBMClassifier.java:26)\n",
      "\tat sklearn2pmml.pipeline.PMMLPipeline.encodePMML(PMMLPipeline.java:215)\n",
      "\tat org.jpmml.sklearn.Main.run(Main.java:145)\n",
      "\tat org.jpmml.sklearn.Main.main(Main.java:94)\n",
      "\n"
     ]
    },
    {
     "ename": "RuntimeError",
     "evalue": "The JPMML-SkLearn conversion application has failed. The Java executable should have printed more information about the failure into its standard output and/or standard error streams",
     "output_type": "error",
     "traceback": [
      "\u001b[0;31m---------------------------------------------------------------------------\u001b[0m",
      "\u001b[0;31mRuntimeError\u001b[0m                              Traceback (most recent call last)",
      "\u001b[0;32m<ipython-input-15-8423ad078c43>\u001b[0m in \u001b[0;36m<module>\u001b[0;34m()\u001b[0m\n\u001b[0;32m----> 1\u001b[0;31m \u001b[0msklearn2pmml\u001b[0m\u001b[0;34m(\u001b[0m\u001b[0mpipeline\u001b[0m\u001b[0;34m,\u001b[0m \u001b[0mbase_link\u001b[0m \u001b[0;34m+\u001b[0m \u001b[0;34m\"/pipeline_2.pmml\"\u001b[0m\u001b[0;34m)\u001b[0m\u001b[0;34m\u001b[0m\u001b[0m\n\u001b[0m",
      "\u001b[0;32m~/.local/lib/python3.6/site-packages/sklearn2pmml/__init__.py\u001b[0m in \u001b[0;36msklearn2pmml\u001b[0;34m(pipeline, pmml, user_classpath, with_repr, debug, java_encoding)\u001b[0m\n\u001b[1;32m    244\u001b[0m                                 \u001b[0mprint\u001b[0m\u001b[0;34m(\u001b[0m\u001b[0;34m\"Standard error is empty\"\u001b[0m\u001b[0;34m)\u001b[0m\u001b[0;34m\u001b[0m\u001b[0m\n\u001b[1;32m    245\u001b[0m                 \u001b[0;32mif\u001b[0m \u001b[0mretcode\u001b[0m\u001b[0;34m:\u001b[0m\u001b[0;34m\u001b[0m\u001b[0m\n\u001b[0;32m--> 246\u001b[0;31m                         \u001b[0;32mraise\u001b[0m \u001b[0mRuntimeError\u001b[0m\u001b[0;34m(\u001b[0m\u001b[0;34m\"The JPMML-SkLearn conversion application has failed. The Java executable should have printed more information about the failure into its standard output and/or standard error streams\"\u001b[0m\u001b[0;34m)\u001b[0m\u001b[0;34m\u001b[0m\u001b[0m\n\u001b[0m\u001b[1;32m    247\u001b[0m         \u001b[0;32mfinally\u001b[0m\u001b[0;34m:\u001b[0m\u001b[0;34m\u001b[0m\u001b[0m\n\u001b[1;32m    248\u001b[0m                 \u001b[0;32mif\u001b[0m \u001b[0mdebug\u001b[0m\u001b[0;34m:\u001b[0m\u001b[0;34m\u001b[0m\u001b[0m\n",
      "\u001b[0;31mRuntimeError\u001b[0m: The JPMML-SkLearn conversion application has failed. The Java executable should have printed more information about the failure into its standard output and/or standard error streams"
     ]
    }
   ],
   "source": [
    "sklearn2pmml(pipeline, base_link + \"/pipeline_2.pmml\")"
   ]
  },
  {
   "cell_type": "code",
   "execution_count": null,
   "metadata": {},
   "outputs": [],
   "source": []
  }
 ],
 "metadata": {
  "hide_input": false,
  "kernelspec": {
   "display_name": "python3.6",
   "language": "python",
   "name": "python3.6"
  },
  "language_info": {
   "codemirror_mode": {
    "name": "ipython",
    "version": 3
   },
   "file_extension": ".py",
   "mimetype": "text/x-python",
   "name": "python",
   "nbconvert_exporter": "python",
   "pygments_lexer": "ipython3",
   "version": "3.6.6"
  },
  "toc": {
   "base_numbering": 1,
   "nav_menu": {},
   "number_sections": true,
   "sideBar": true,
   "skip_h1_title": false,
   "title_cell": "Table of Contents",
   "title_sidebar": "Contents",
   "toc_cell": false,
   "toc_position": {
    "height": "calc(100% - 180px)",
    "left": "10px",
    "top": "150px",
    "width": "349px"
   },
   "toc_section_display": true,
   "toc_window_display": true
  },
  "varInspector": {
   "cols": {
    "lenName": 16,
    "lenType": 16,
    "lenVar": 40
   },
   "kernels_config": {
    "python": {
     "delete_cmd_postfix": "",
     "delete_cmd_prefix": "del ",
     "library": "var_list.py",
     "varRefreshCmd": "print(var_dic_list())"
    },
    "r": {
     "delete_cmd_postfix": ") ",
     "delete_cmd_prefix": "rm(",
     "library": "var_list.r",
     "varRefreshCmd": "cat(var_dic_list()) "
    }
   },
   "types_to_exclude": [
    "module",
    "function",
    "builtin_function_or_method",
    "instance",
    "_Feature"
   ],
   "window_display": false
  }
 },
 "nbformat": 4,
 "nbformat_minor": 2
}
